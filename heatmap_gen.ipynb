{
 "cells": [
  {
   "cell_type": "code",
   "execution_count": null,
   "metadata": {},
   "outputs": [],
   "source": [
    "import os\n",
    "import sys\n",
    "import pandas as pd\n",
    "import numpy as np\n",
    "import itertools\n",
    "import vaex\n",
    "import seaborn as sns\n",
    "import matplotlib.pyplot as plt\n",
    "import matplotlib\n",
    "import seaborn as sns\n",
    "import plotly.express as px\n",
    "import plotly\n",
    "import plotly.subplots\n",
    "from plotly.subplots import make_subplots\n",
    "import plotly.graph_objects as go\n",
    "\n",
    "#data = pd.read_csv(\"/Users/davidcunningham/Desktop/Ph.D./MiscFigures/Axonkinematicsremoved.csv\")\n",
    "\n",
    "data = vaex.from_csv(\"/Users/davidcunningham/Desktop/Ph.D./MiscFigures/Axonkinematicsremoved.csv\", convert = True, chunk_size = 10_000, low_memory = False)\n",
    "\n",
    "#data= data.apply(lambda x: [y if y <= 1 else 0 for y in x])\n",
    "\n",
    "\n",
    "import numpy as np \n",
    "from pandas import DataFrame\n",
    "import seaborn as sns\n",
    "%matplotlib inline\n",
    "\n",
    "#df = DataFrame(abs(data), index=data.index, columns=data.columns)\n",
    "\n",
    "fig,ax = plt.subplots(figsize=(24,18))\n",
    "\n",
    "sns.heatmap(data,\n",
    "    vmin=0,\n",
    "    vmax=0.05,\n",
    "    cmap = sns.color_palette(\"mako\", as_cmap=True)\n",
    ")\n",
    "\n",
    "ax.set_title('Axon vs Time')\n",
    "plt.tight_layout()\n",
    "#plt.savefig(\"corr_matrix_incl_anno_double.png\", dpi=300)\n",
    "\n"
   ]
  }
 ],
 "metadata": {
  "language_info": {
   "name": "python"
  },
  "orig_nbformat": 4
 },
 "nbformat": 4,
 "nbformat_minor": 2
}
